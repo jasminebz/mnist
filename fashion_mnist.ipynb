{
 "cells": [
  {
   "cell_type": "code",
   "execution_count": 1,
   "id": "ca8b8897",
   "metadata": {},
   "outputs": [
    {
     "name": "stderr",
     "output_type": "stream",
     "text": [
      "2024-06-06 13:55:53.459377: I tensorflow/core/platform/cpu_feature_guard.cc:193] This TensorFlow binary is optimized with oneAPI Deep Neural Network Library (oneDNN) to use the following CPU instructions in performance-critical operations:  AVX2 FMA\n",
      "To enable them in other operations, rebuild TensorFlow with the appropriate compiler flags.\n",
      "2024-06-06 13:55:53.721766: W tensorflow/stream_executor/platform/default/dso_loader.cc:64] Could not load dynamic library 'libcudart.so.11.0'; dlerror: libcudart.so.11.0: cannot open shared object file: No such file or directory\n",
      "2024-06-06 13:55:53.721808: I tensorflow/stream_executor/cuda/cudart_stub.cc:29] Ignore above cudart dlerror if you do not have a GPU set up on your machine.\n",
      "2024-06-06 13:55:53.760737: E tensorflow/stream_executor/cuda/cuda_blas.cc:2981] Unable to register cuBLAS factory: Attempting to register factory for plugin cuBLAS when one has already been registered\n",
      "2024-06-06 13:55:54.618055: W tensorflow/stream_executor/platform/default/dso_loader.cc:64] Could not load dynamic library 'libnvinfer.so.7'; dlerror: libnvinfer.so.7: cannot open shared object file: No such file or directory\n",
      "2024-06-06 13:55:54.618211: W tensorflow/stream_executor/platform/default/dso_loader.cc:64] Could not load dynamic library 'libnvinfer_plugin.so.7'; dlerror: libnvinfer_plugin.so.7: cannot open shared object file: No such file or directory\n",
      "2024-06-06 13:55:54.618221: W tensorflow/compiler/tf2tensorrt/utils/py_utils.cc:38] TF-TRT Warning: Cannot dlopen some TensorRT libraries. If you would like to use Nvidia GPU with TensorRT, please make sure the missing libraries mentioned above are installed properly.\n"
     ]
    }
   ],
   "source": [
    "# preprocessing\n",
    "import numpy as np\n",
    "import matplotlib.pyplot as plt\n",
    "from tensorflow.keras import datasets\n",
    "from tensorflow.keras.backend import expand_dims\n",
    "from tensorflow.keras.utils import to_categorical\n",
    "\n",
    "# CNN\n",
    "from tensorflow.keras import layers\n",
    "from tensorflow.keras import models\n",
    "from tensorflow.keras.callbacks import EarlyStopping"
   ]
  },
  {
   "cell_type": "markdown",
   "id": "501829eb",
   "metadata": {},
   "source": [
    "# Load data"
   ]
  },
  {
   "cell_type": "code",
   "execution_count": 2,
   "id": "2e7d5d83",
   "metadata": {},
   "outputs": [
    {
     "data": {
      "text/plain": [
       "(((60000, 28, 28), (60000,)), ((10000, 28, 28), (10000,)))"
      ]
     },
     "execution_count": 2,
     "metadata": {},
     "output_type": "execute_result"
    }
   ],
   "source": [
    "(X_train, y_train), (X_test, y_test) = datasets.fashion_mnist.load_data()\n",
    "(X_train.shape, y_train.shape), (X_test.shape, y_test.shape)"
   ]
  },
  {
   "cell_type": "code",
   "execution_count": 3,
   "id": "2a0ebe5d",
   "metadata": {},
   "outputs": [
    {
     "data": {
      "image/png": "[encoded data removed]",
      "text/plain": [
       "<Figure size 640x480 with 1 Axes>"
      ]
     },
     "metadata": {},
     "output_type": "display_data"
    },
    {
     "data": {
      "image/png": "[encoded data removed]",
      "text/plain": [
       "<Figure size 640x480 with 1 Axes>"
      ]
     },
     "metadata": {},
     "output_type": "display_data"
    }
   ],
   "source": [
    "# let's look at some random samples of the data\n",
    "number_of_train_images = len(X_train)\n",
    "random_list_of_images_to_show = np.random.randint(0, number_of_train_images , 2)\n",
    "\n",
    "for i in random_list_of_images_to_show:\n",
    "    plt.imshow(X_train[i], cmap='gray')\n",
    "    plt.show()"
   ]
  },
  {
   "cell_type": "markdown",
   "id": "56e265f8",
   "metadata": {},
   "source": [
    "# Preprocessing"
   ]
  },
  {
   "cell_type": "markdown",
   "id": "73afd34a",
   "metadata": {},
   "source": [
    "## Normalize"
   ]
  },
  {
   "cell_type": "code",
   "execution_count": 4,
   "id": "070f46b8",
   "metadata": {},
   "outputs": [],
   "source": [
    "# scale all pixel intensities to 0-1\n",
    "X_train = X_train/255\n",
    "X_test = X_test/255"
   ]
  },
  {
   "cell_type": "code",
   "execution_count": 5,
   "id": "fb146be1",
   "metadata": {},
   "outputs": [
    {
     "data": {
      "text/plain": [
       "((0.0, 1.0), (0.0, 1.0))"
      ]
     },
     "execution_count": 5,
     "metadata": {},
     "output_type": "execute_result"
    }
   ],
   "source": [
    "(X_train.min(), X_train.max()), (X_test.min(), X_test.max())"
   ]
  },
  {
   "cell_type": "markdown",
   "id": "26b1da62",
   "metadata": {},
   "source": [
    "## Expand dimensions"
   ]
  },
  {
   "cell_type": "code",
   "execution_count": 6,
   "id": "642f947d",
   "metadata": {},
   "outputs": [
    {
     "name": "stderr",
     "output_type": "stream",
     "text": [
      "2024-06-06 13:55:56.911423: W tensorflow/stream_executor/platform/default/dso_loader.cc:64] Could not load dynamic library 'libcuda.so.1'; dlerror: libcuda.so.1: cannot open shared object file: No such file or directory\n",
      "2024-06-06 13:55:56.911505: W tensorflow/stream_executor/cuda/cuda_driver.cc:263] failed call to cuInit: UNKNOWN ERROR (303)\n",
      "2024-06-06 13:55:56.911536: I tensorflow/stream_executor/cuda/cuda_diagnostics.cc:156] kernel driver does not appear to be running on this host (Jasmine): /proc/driver/nvidia/version does not exist\n",
      "2024-06-06 13:55:56.912124: I tensorflow/core/platform/cpu_feature_guard.cc:193] This TensorFlow binary is optimized with oneAPI Deep Neural Network Library (oneDNN) to use the following CPU instructions in performance-critical operations:  AVX2 FMA\n",
      "To enable them in other operations, rebuild TensorFlow with the appropriate compiler flags.\n",
      "2024-06-06 13:55:56.918539: W tensorflow/core/framework/cpu_allocator_impl.cc:82] Allocation of 376320000 exceeds 10% of free system memory.\n"
     ]
    }
   ],
   "source": [
    "# reshape tensors to add a single channel for black and white pixels\n",
    "X_train = expand_dims(X_train, axis = -1)\n",
    "X_test = expand_dims(X_test, axis = -1)"
   ]
  },
  {
   "cell_type": "code",
   "execution_count": 7,
   "id": "951290cd",
   "metadata": {},
   "outputs": [
    {
     "data": {
      "text/plain": [
       "(TensorShape([60000, 28, 28, 1]), TensorShape([10000, 28, 28, 1]))"
      ]
     },
     "execution_count": 7,
     "metadata": {},
     "output_type": "execute_result"
    }
   ],
   "source": [
    "X_train.shape, X_test.shape"
   ]
  },
  {
   "cell_type": "markdown",
   "id": "9c519598",
   "metadata": {},
   "source": [
    "## Encode target"
   ]
  },
  {
   "cell_type": "code",
   "execution_count": 8,
   "id": "b8e0a24a",
   "metadata": {},
   "outputs": [],
   "source": [
    "# one-hot-encode the clothing labels\n",
    "y_train_cat = to_categorical(y_train, num_classes=10)\n",
    "y_test_cat = to_categorical(y_test, num_classes=10)"
   ]
  },
  {
   "cell_type": "code",
   "execution_count": 9,
   "id": "fcfb423b",
   "metadata": {},
   "outputs": [
    {
     "data": {
      "text/plain": [
       "((60000, 10), (10000, 10))"
      ]
     },
     "execution_count": 9,
     "metadata": {},
     "output_type": "execute_result"
    }
   ],
   "source": [
    "y_train_cat.shape, y_test_cat.shape"
   ]
  },
  {
   "cell_type": "markdown",
   "id": "746003ce",
   "metadata": {},
   "source": [
    "# CNN"
   ]
  },
  {
   "cell_type": "code",
   "execution_count": 10,
   "id": "75b15f8b",
   "metadata": {},
   "outputs": [],
   "source": [
    "def initalize_model():\n",
    "    \n",
    "    model = models.Sequential()\n",
    "    \n",
    "    # convolutional and maxpooling layers\n",
    "    model.add(layers.Conv2D(8, (4,4), input_shape=(28,28,1), activation=\"relu\", padding=\"same\"))\n",
    "    model.add(layers.MaxPool2D(pool_size=(2,2)))\n",
    "    \n",
    "    # flattening layer\n",
    "    model.add(layers.Flatten())\n",
    "    \n",
    "    # classification layer\n",
    "    model.add(layers.Dense(10, activation=\"softmax\"))\n",
    "    \n",
    "    # model compilation\n",
    "    model.compile(loss=\"categorical_crossentropy\",\n",
    "                 optimizer=\"adam\",\n",
    "                 metrics=[\"accuracy\"])\n",
    "    \n",
    "    return model"
   ]
  },
  {
   "cell_type": "code",
   "execution_count": 11,
   "id": "4c1c09d7",
   "metadata": {},
   "outputs": [
    {
     "name": "stdout",
     "output_type": "stream",
     "text": [
      "Epoch 1/100\n",
      "1313/1313 [==============================] - 15s 11ms/step - loss: 0.5487 - accuracy: 0.8075 - val_loss: 0.4778 - val_accuracy: 0.8297\n",
      "Epoch 2/100\n",
      "1313/1313 [==============================] - 14s 10ms/step - loss: 0.3982 - accuracy: 0.8614 - val_loss: 0.3758 - val_accuracy: 0.8688\n",
      "Epoch 3/100\n",
      "1313/1313 [==============================] - 14s 10ms/step - loss: 0.3604 - accuracy: 0.8745 - val_loss: 0.3629 - val_accuracy: 0.8724\n",
      "Epoch 4/100\n",
      "1313/1313 [==============================] - 14s 11ms/step - loss: 0.3376 - accuracy: 0.8802 - val_loss: 0.3720 - val_accuracy: 0.8698\n",
      "Epoch 5/100\n",
      "1313/1313 [==============================] - 18s 14ms/step - loss: 0.3199 - accuracy: 0.8859 - val_loss: 0.3392 - val_accuracy: 0.8813\n",
      "Epoch 6/100\n",
      "1313/1313 [==============================] - 14s 11ms/step - loss: 0.3049 - accuracy: 0.8926 - val_loss: 0.3286 - val_accuracy: 0.8851\n",
      "Epoch 7/100\n",
      "1313/1313 [==============================] - 14s 11ms/step - loss: 0.2935 - accuracy: 0.8954 - val_loss: 0.3228 - val_accuracy: 0.8891\n",
      "Epoch 8/100\n",
      "1313/1313 [==============================] - 14s 11ms/step - loss: 0.2826 - accuracy: 0.9001 - val_loss: 0.3175 - val_accuracy: 0.8887\n",
      "Epoch 9/100\n",
      "1313/1313 [==============================] - 19s 15ms/step - loss: 0.2711 - accuracy: 0.9044 - val_loss: 0.3102 - val_accuracy: 0.8933\n",
      "Epoch 10/100\n",
      "1313/1313 [==============================] - 14s 11ms/step - loss: 0.2650 - accuracy: 0.9043 - val_loss: 0.3146 - val_accuracy: 0.8901\n",
      "Epoch 11/100\n",
      "1313/1313 [==============================] - 17s 13ms/step - loss: 0.2574 - accuracy: 0.9090 - val_loss: 0.3062 - val_accuracy: 0.8960\n",
      "Epoch 12/100\n",
      "1313/1313 [==============================] - 14s 11ms/step - loss: 0.2494 - accuracy: 0.9112 - val_loss: 0.3026 - val_accuracy: 0.8965\n",
      "Epoch 13/100\n",
      "1313/1313 [==============================] - 14s 11ms/step - loss: 0.2433 - accuracy: 0.9127 - val_loss: 0.2978 - val_accuracy: 0.8963\n",
      "Epoch 14/100\n",
      "1313/1313 [==============================] - 13s 10ms/step - loss: 0.2374 - accuracy: 0.9147 - val_loss: 0.2980 - val_accuracy: 0.8984\n",
      "Epoch 15/100\n",
      "1313/1313 [==============================] - 15s 12ms/step - loss: 0.2313 - accuracy: 0.9181 - val_loss: 0.3156 - val_accuracy: 0.8907\n",
      "Epoch 16/100\n",
      "1313/1313 [==============================] - 18s 13ms/step - loss: 0.2281 - accuracy: 0.9180 - val_loss: 0.3001 - val_accuracy: 0.8987\n",
      "Epoch 17/100\n",
      "1313/1313 [==============================] - 17s 13ms/step - loss: 0.2230 - accuracy: 0.9193 - val_loss: 0.3224 - val_accuracy: 0.8900\n",
      "Epoch 18/100\n",
      "1313/1313 [==============================] - 15s 12ms/step - loss: 0.2187 - accuracy: 0.9224 - val_loss: 0.3030 - val_accuracy: 0.8980\n"
     ]
    }
   ],
   "source": [
    "model = initalize_model()\n",
    "\n",
    "es = EarlyStopping(patience=5)\n",
    "\n",
    "history = model.fit(X_train, \n",
    "                   y_train_cat, \n",
    "                   validation_split=0.3,\n",
    "                   batch_size=32,\n",
    "                   epochs=100,\n",
    "                   callbacks= es, \n",
    "                   verbose=1)"
   ]
  },
  {
   "cell_type": "markdown",
   "id": "21df0df7",
   "metadata": {},
   "source": [
    "## Evaluate performance"
   ]
  },
  {
   "cell_type": "code",
   "execution_count": 12,
   "id": "7b755816",
   "metadata": {},
   "outputs": [
    {
     "name": "stdout",
     "output_type": "stream",
     "text": [
      "313/313 [==============================] - 2s 5ms/step - loss: 0.3186 - accuracy: 0.8918\n"
     ]
    }
   ],
   "source": [
    "res = model.evaluate(X_test, y_test_cat, verbose=1)"
   ]
  }
 ],
 "metadata": {
  "kernelspec": {
   "display_name": "Python 3 (ipykernel)",
   "language": "python",
   "name": "python3"
  },
  "language_info": {
   "codemirror_mode": {
    "name": "ipython",
    "version": 3
   },
   "file_extension": ".py",
   "mimetype": "text/x-python",
   "name": "python",
   "nbconvert_exporter": "python",
   "pygments_lexer": "ipython3",
   "version": "3.10.6"
  },
  "toc": {
   "base_numbering": 1,
   "nav_menu": {},
   "number_sections": true,
   "sideBar": true,
   "skip_h1_title": false,
   "title_cell": "Table of Contents",
   "title_sidebar": "Contents",
   "toc_cell": false,
   "toc_position": {},
   "toc_section_display": true,
   "toc_window_display": false
  }
 },
 "nbformat": 4,
 "nbformat_minor": 5
}
