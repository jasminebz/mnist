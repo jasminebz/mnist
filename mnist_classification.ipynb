{
 "cells": [
  {
   "cell_type": "code",
   "execution_count": 27,
   "id": "2bffe821",
   "metadata": {},
   "outputs": [],
   "source": [
    "# preprocessing\n",
    "from tensorflow.keras import datasets\n",
    "from tensorflow.keras.backend import expand_dims\n",
    "from tensorflow.keras.utils import to_categorical\n",
    "\n",
    "# CNN\n",
    "from tensorflow.keras import layers\n",
    "from tensorflow.keras import models\n",
    "from tensorflow.keras.callbacks import EarlyStopping"
   ]
  },
  {
   "cell_type": "markdown",
   "id": "65a5b19e",
   "metadata": {},
   "source": [
    "# Load data"
   ]
  },
  {
   "cell_type": "code",
   "execution_count": 31,
   "id": "0ffa3ed8",
   "metadata": {},
   "outputs": [
    {
     "data": {
      "text/plain": [
       "(((60000, 28, 28), (60000,)), ((10000, 28, 28), (10000,)))"
      ]
     },
     "execution_count": 31,
     "metadata": {},
     "output_type": "execute_result"
    }
   ],
   "source": [
    "(X_train, y_train), (X_test, y_test) = datasets.mnist.load_data(path=\"mnist.npz\")\n",
    "\n",
    "(X_train.shape, y_train.shape), (X_test.shape, y_test.shape)"
   ]
  },
  {
   "cell_type": "markdown",
   "id": "ba9e28b0",
   "metadata": {},
   "source": [
    "# Preprocessing"
   ]
  },
  {
   "cell_type": "markdown",
   "id": "fe5243bb",
   "metadata": {},
   "source": [
    "## Normalize"
   ]
  },
  {
   "cell_type": "code",
   "execution_count": 32,
   "id": "db86dc17",
   "metadata": {},
   "outputs": [],
   "source": [
    "# scale all pixel intensities to 0-1\n",
    "X_train = X_train/255\n",
    "X_test = X_test/255"
   ]
  },
  {
   "cell_type": "code",
   "execution_count": 33,
   "id": "327bdf04",
   "metadata": {},
   "outputs": [
    {
     "data": {
      "text/plain": [
       "((0.0, 1.0), (0.0, 1.0))"
      ]
     },
     "execution_count": 33,
     "metadata": {},
     "output_type": "execute_result"
    }
   ],
   "source": [
    "(X_train.min(), X_train.max()), (X_test.min(), X_test.max())"
   ]
  },
  {
   "cell_type": "markdown",
   "id": "5eebed4e",
   "metadata": {},
   "source": [
    "## Expand dimensions"
   ]
  },
  {
   "cell_type": "code",
   "execution_count": 34,
   "id": "848c74cb",
   "metadata": {},
   "outputs": [
    {
     "name": "stderr",
     "output_type": "stream",
     "text": [
      "2024-06-06 11:23:04.751160: W tensorflow/core/framework/cpu_allocator_impl.cc:82] Allocation of 376320000 exceeds 10% of free system memory.\n"
     ]
    }
   ],
   "source": [
    "# reshape tensors to add a single channel for black and white pixels\n",
    "X_train = expand_dims(X_train, axis = -1)\n",
    "X_test = expand_dims(X_test, axis = -1)"
   ]
  },
  {
   "cell_type": "code",
   "execution_count": 35,
   "id": "99ada59e",
   "metadata": {},
   "outputs": [
    {
     "data": {
      "text/plain": [
       "(TensorShape([60000, 28, 28, 1]), TensorShape([10000, 28, 28, 1]))"
      ]
     },
     "execution_count": 35,
     "metadata": {},
     "output_type": "execute_result"
    }
   ],
   "source": [
    "X_train.shape, X_test.shape"
   ]
  },
  {
   "cell_type": "markdown",
   "id": "795e82fe",
   "metadata": {},
   "source": [
    "## Encode target"
   ]
  },
  {
   "cell_type": "code",
   "execution_count": 36,
   "id": "7a0d2b3c",
   "metadata": {},
   "outputs": [],
   "source": [
    "# one-hot-encode the number labels\n",
    "y_train_cat = to_categorical(y_train, num_classes=10)\n",
    "y_test_cat = to_categorical(y_test, num_classes=10)"
   ]
  },
  {
   "cell_type": "code",
   "execution_count": 37,
   "id": "853fd7cd",
   "metadata": {},
   "outputs": [
    {
     "data": {
      "text/plain": [
       "((60000, 10), (10000, 10))"
      ]
     },
     "execution_count": 37,
     "metadata": {},
     "output_type": "execute_result"
    }
   ],
   "source": [
    "y_train_cat.shape, y_test_cat.shape"
   ]
  },
  {
   "cell_type": "markdown",
   "id": "e702c4e2",
   "metadata": {},
   "source": [
    "# CNN "
   ]
  },
  {
   "cell_type": "code",
   "execution_count": 38,
   "id": "7090cca8",
   "metadata": {},
   "outputs": [],
   "source": [
    "def initalize_model():\n",
    "    \n",
    "    model = models.Sequential()\n",
    "    \n",
    "    # convolutional and maxpooling layers\n",
    "    model.add(layers.Conv2D(8, (4,4), input_shape=(28,28,1), activation=\"relu\", padding=\"same\"))\n",
    "    model.add(layers.MaxPool2D(pool_size=(2,2)))\n",
    "    \n",
    "    # flattening layer\n",
    "    model.add(layers.Flatten())\n",
    "    \n",
    "    # classification layer\n",
    "    model.add(layers.Dense(10, activation=\"softmax\"))\n",
    "    \n",
    "    # model compilation\n",
    "    model.compile(loss=\"categorical_crossentropy\",\n",
    "                 optimizer=\"adam\",\n",
    "                 metrics=[\"accuracy\"])\n",
    "    \n",
    "    return model"
   ]
  },
  {
   "cell_type": "code",
   "execution_count": 40,
   "id": "b7e40c0c",
   "metadata": {},
   "outputs": [
    {
     "name": "stdout",
     "output_type": "stream",
     "text": [
      "Epoch 1/100\n",
      "1313/1313 [==============================] - 9s 7ms/step - loss: 0.3377 - accuracy: 0.9030 - val_loss: 0.1883 - val_accuracy: 0.9486\n",
      "Epoch 2/100\n",
      "1313/1313 [==============================] - 9s 7ms/step - loss: 0.1616 - accuracy: 0.9533 - val_loss: 0.1472 - val_accuracy: 0.9589\n",
      "Epoch 3/100\n",
      "1313/1313 [==============================] - 10s 8ms/step - loss: 0.1200 - accuracy: 0.9655 - val_loss: 0.1241 - val_accuracy: 0.9634\n",
      "Epoch 4/100\n",
      "1313/1313 [==============================] - 11s 9ms/step - loss: 0.0940 - accuracy: 0.9725 - val_loss: 0.0953 - val_accuracy: 0.9729\n",
      "Epoch 5/100\n",
      "1313/1313 [==============================] - 11s 8ms/step - loss: 0.0754 - accuracy: 0.9786 - val_loss: 0.0915 - val_accuracy: 0.9733\n",
      "Epoch 6/100\n",
      "1313/1313 [==============================] - 11s 9ms/step - loss: 0.0638 - accuracy: 0.9812 - val_loss: 0.0802 - val_accuracy: 0.9750\n",
      "Epoch 7/100\n",
      "1313/1313 [==============================] - 12s 9ms/step - loss: 0.0548 - accuracy: 0.9839 - val_loss: 0.0777 - val_accuracy: 0.9759\n",
      "Epoch 8/100\n",
      "1313/1313 [==============================] - 13s 10ms/step - loss: 0.0484 - accuracy: 0.9855 - val_loss: 0.0763 - val_accuracy: 0.9785\n",
      "Epoch 9/100\n",
      "1313/1313 [==============================] - 14s 10ms/step - loss: 0.0425 - accuracy: 0.9874 - val_loss: 0.0753 - val_accuracy: 0.9767\n",
      "Epoch 10/100\n",
      "1313/1313 [==============================] - 13s 10ms/step - loss: 0.0378 - accuracy: 0.9887 - val_loss: 0.0760 - val_accuracy: 0.9780\n",
      "Epoch 11/100\n",
      "1313/1313 [==============================] - 13s 10ms/step - loss: 0.0349 - accuracy: 0.9893 - val_loss: 0.0728 - val_accuracy: 0.9784\n",
      "Epoch 12/100\n",
      "1313/1313 [==============================] - 13s 10ms/step - loss: 0.0313 - accuracy: 0.9908 - val_loss: 0.0733 - val_accuracy: 0.9794\n",
      "Epoch 13/100\n",
      "1313/1313 [==============================] - 13s 10ms/step - loss: 0.0282 - accuracy: 0.9916 - val_loss: 0.0709 - val_accuracy: 0.9804\n",
      "Epoch 14/100\n",
      "1313/1313 [==============================] - 13s 10ms/step - loss: 0.0262 - accuracy: 0.9923 - val_loss: 0.0752 - val_accuracy: 0.9794\n",
      "Epoch 15/100\n",
      "1313/1313 [==============================] - 13s 10ms/step - loss: 0.0234 - accuracy: 0.9931 - val_loss: 0.0729 - val_accuracy: 0.9804\n",
      "Epoch 16/100\n",
      "1313/1313 [==============================] - 13s 10ms/step - loss: 0.0221 - accuracy: 0.9932 - val_loss: 0.0746 - val_accuracy: 0.9797\n",
      "Epoch 17/100\n",
      "1313/1313 [==============================] - 13s 10ms/step - loss: 0.0198 - accuracy: 0.9941 - val_loss: 0.0783 - val_accuracy: 0.9789\n",
      "Epoch 18/100\n",
      "1313/1313 [==============================] - 17s 13ms/step - loss: 0.0183 - accuracy: 0.9947 - val_loss: 0.0763 - val_accuracy: 0.9796\n"
     ]
    }
   ],
   "source": [
    "model = initalize_model()\n",
    "\n",
    "es = EarlyStopping(patience=5)\n",
    "\n",
    "history = model.fit(X_train, \n",
    "                   y_train_cat, \n",
    "                   validation_split=0.3,\n",
    "                   batch_size=32,\n",
    "                   epochs=100,\n",
    "                   callbacks= es, \n",
    "                   verbose=1)"
   ]
  },
  {
   "cell_type": "markdown",
   "id": "691b4bdf",
   "metadata": {},
   "source": [
    "## Evaluate the performance"
   ]
  },
  {
   "cell_type": "code",
   "execution_count": 41,
   "id": "ec9285df",
   "metadata": {},
   "outputs": [
    {
     "name": "stdout",
     "output_type": "stream",
     "text": [
      "313/313 [==============================] - 2s 5ms/step - loss: 0.0679 - accuracy: 0.9820\n"
     ]
    }
   ],
   "source": [
    "res = model.evaluate(X_test, y_test_cat, verbose=1)"
   ]
  },
  {
   "cell_type": "code",
   "execution_count": null,
   "id": "5ccf9354",
   "metadata": {},
   "outputs": [],
   "source": []
  }
 ],
 "metadata": {
  "kernelspec": {
   "display_name": "Python 3 (ipykernel)",
   "language": "python",
   "name": "python3"
  },
  "language_info": {
   "codemirror_mode": {
    "name": "ipython",
    "version": 3
   },
   "file_extension": ".py",
   "mimetype": "text/x-python",
   "name": "python",
   "nbconvert_exporter": "python",
   "pygments_lexer": "ipython3",
   "version": "3.10.6"
  },
  "toc": {
   "base_numbering": 1,
   "nav_menu": {},
   "number_sections": true,
   "sideBar": true,
   "skip_h1_title": false,
   "title_cell": "Table of Contents",
   "title_sidebar": "Contents",
   "toc_cell": false,
   "toc_position": {},
   "toc_section_display": true,
   "toc_window_display": false
  }
 },
 "nbformat": 4,
 "nbformat_minor": 5
}
