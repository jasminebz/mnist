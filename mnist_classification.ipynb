{
 "cells": [
  {
   "cell_type": "code",
   "execution_count": 1,
   "id": "69f31368",
   "metadata": {},
   "outputs": [
    {
     "name": "stderr",
     "output_type": "stream",
     "text": [
      "2024-06-06 11:42:12.480576: I tensorflow/core/platform/cpu_feature_guard.cc:193] This TensorFlow binary is optimized with oneAPI Deep Neural Network Library (oneDNN) to use the following CPU instructions in performance-critical operations:  AVX2 FMA\n",
      "To enable them in other operations, rebuild TensorFlow with the appropriate compiler flags.\n",
      "2024-06-06 11:42:12.643001: W tensorflow/stream_executor/platform/default/dso_loader.cc:64] Could not load dynamic library 'libcudart.so.11.0'; dlerror: libcudart.so.11.0: cannot open shared object file: No such file or directory\n",
      "2024-06-06 11:42:12.643022: I tensorflow/stream_executor/cuda/cudart_stub.cc:29] Ignore above cudart dlerror if you do not have a GPU set up on your machine.\n",
      "2024-06-06 11:42:12.680271: E tensorflow/stream_executor/cuda/cuda_blas.cc:2981] Unable to register cuBLAS factory: Attempting to register factory for plugin cuBLAS when one has already been registered\n",
      "2024-06-06 11:42:13.845949: W tensorflow/stream_executor/platform/default/dso_loader.cc:64] Could not load dynamic library 'libnvinfer.so.7'; dlerror: libnvinfer.so.7: cannot open shared object file: No such file or directory\n",
      "2024-06-06 11:42:13.846059: W tensorflow/stream_executor/platform/default/dso_loader.cc:64] Could not load dynamic library 'libnvinfer_plugin.so.7'; dlerror: libnvinfer_plugin.so.7: cannot open shared object file: No such file or directory\n",
      "2024-06-06 11:42:13.846070: W tensorflow/compiler/tf2tensorrt/utils/py_utils.cc:38] TF-TRT Warning: Cannot dlopen some TensorRT libraries. If you would like to use Nvidia GPU with TensorRT, please make sure the missing libraries mentioned above are installed properly.\n"
     ]
    }
   ],
   "source": [
    "# preprocessing\n",
    "from tensorflow.keras import datasets\n",
    "from tensorflow.keras.backend import expand_dims\n",
    "from tensorflow.keras.utils import to_categorical\n",
    "\n",
    "# CNN\n",
    "from tensorflow.keras import layers\n",
    "from tensorflow.keras import models\n",
    "from tensorflow.keras.callbacks import EarlyStopping"
   ]
  },
  {
   "cell_type": "markdown",
   "id": "5074807f",
   "metadata": {},
   "source": [
    "# Load data"
   ]
  },
  {
   "cell_type": "code",
   "execution_count": 2,
   "id": "cca7584d",
   "metadata": {},
   "outputs": [
    {
     "data": {
      "text/plain": [
       "(((60000, 28, 28), (60000,)), ((10000, 28, 28), (10000,)))"
      ]
     },
     "execution_count": 2,
     "metadata": {},
     "output_type": "execute_result"
    }
   ],
   "source": [
    "(X_train, y_train), (X_test, y_test) = datasets.mnist.load_data(path=\"mnist.npz\")\n",
    "\n",
    "(X_train.shape, y_train.shape), (X_test.shape, y_test.shape)"
   ]
  },
  {
   "cell_type": "markdown",
   "id": "8e26f784",
   "metadata": {},
   "source": [
    "# Preprocessing"
   ]
  },
  {
   "cell_type": "markdown",
   "id": "36659621",
   "metadata": {},
   "source": [
    "## Normalize"
   ]
  },
  {
   "cell_type": "code",
   "execution_count": 3,
   "id": "bedc7d30",
   "metadata": {},
   "outputs": [],
   "source": [
    "# scale all pixel intensities to 0-1\n",
    "X_train = X_train/255\n",
    "X_test = X_test/255"
   ]
  },
  {
   "cell_type": "code",
   "execution_count": 4,
   "id": "86248e63",
   "metadata": {},
   "outputs": [
    {
     "data": {
      "text/plain": [
       "((0.0, 1.0), (0.0, 1.0))"
      ]
     },
     "execution_count": 4,
     "metadata": {},
     "output_type": "execute_result"
    }
   ],
   "source": [
    "(X_train.min(), X_train.max()), (X_test.min(), X_test.max())"
   ]
  },
  {
   "cell_type": "markdown",
   "id": "8b3d8323",
   "metadata": {},
   "source": [
    "## Expand dimensions"
   ]
  },
  {
   "cell_type": "code",
   "execution_count": 5,
   "id": "5442caf7",
   "metadata": {},
   "outputs": [
    {
     "name": "stderr",
     "output_type": "stream",
     "text": [
      "2024-06-06 11:42:17.014916: W tensorflow/stream_executor/platform/default/dso_loader.cc:64] Could not load dynamic library 'libcuda.so.1'; dlerror: libcuda.so.1: cannot open shared object file: No such file or directory\n",
      "2024-06-06 11:42:17.015041: W tensorflow/stream_executor/cuda/cuda_driver.cc:263] failed call to cuInit: UNKNOWN ERROR (303)\n",
      "2024-06-06 11:42:17.015114: I tensorflow/stream_executor/cuda/cuda_diagnostics.cc:156] kernel driver does not appear to be running on this host (Jasmine): /proc/driver/nvidia/version does not exist\n",
      "2024-06-06 11:42:17.015879: I tensorflow/core/platform/cpu_feature_guard.cc:193] This TensorFlow binary is optimized with oneAPI Deep Neural Network Library (oneDNN) to use the following CPU instructions in performance-critical operations:  AVX2 FMA\n",
      "To enable them in other operations, rebuild TensorFlow with the appropriate compiler flags.\n",
      "2024-06-06 11:42:17.026668: W tensorflow/core/framework/cpu_allocator_impl.cc:82] Allocation of 376320000 exceeds 10% of free system memory.\n"
     ]
    }
   ],
   "source": [
    "# reshape tensors to add a single channel for black and white pixels\n",
    "X_train = expand_dims(X_train, axis = -1)\n",
    "X_test = expand_dims(X_test, axis = -1)"
   ]
  },
  {
   "cell_type": "code",
   "execution_count": 6,
   "id": "a3724a0b",
   "metadata": {},
   "outputs": [
    {
     "data": {
      "text/plain": [
       "(TensorShape([60000, 28, 28, 1]), TensorShape([10000, 28, 28, 1]))"
      ]
     },
     "execution_count": 6,
     "metadata": {},
     "output_type": "execute_result"
    }
   ],
   "source": [
    "X_train.shape, X_test.shape"
   ]
  },
  {
   "cell_type": "markdown",
   "id": "e2b37c07",
   "metadata": {},
   "source": [
    "## Encode target"
   ]
  },
  {
   "cell_type": "code",
   "execution_count": 7,
   "id": "4a68a7ad",
   "metadata": {},
   "outputs": [],
   "source": [
    "# one-hot-encode the number labels\n",
    "y_train_cat = to_categorical(y_train, num_classes=10)\n",
    "y_test_cat = to_categorical(y_test, num_classes=10)"
   ]
  },
  {
   "cell_type": "code",
   "execution_count": 8,
   "id": "d92b5efb",
   "metadata": {},
   "outputs": [
    {
     "data": {
      "text/plain": [
       "((60000, 10), (10000, 10))"
      ]
     },
     "execution_count": 8,
     "metadata": {},
     "output_type": "execute_result"
    }
   ],
   "source": [
    "y_train_cat.shape, y_test_cat.shape"
   ]
  },
  {
   "cell_type": "markdown",
   "id": "0c017ecf",
   "metadata": {},
   "source": [
    "# CNN "
   ]
  },
  {
   "cell_type": "code",
   "execution_count": 9,
   "id": "15fcd096",
   "metadata": {},
   "outputs": [],
   "source": [
    "def initalize_model():\n",
    "    \n",
    "    model = models.Sequential()\n",
    "    \n",
    "    # convolutional and maxpooling layers\n",
    "    model.add(layers.Conv2D(8, (4,4), input_shape=(28,28,1), activation=\"relu\", padding=\"same\"))\n",
    "    model.add(layers.MaxPool2D(pool_size=(2,2)))\n",
    "    \n",
    "    # flattening layer\n",
    "    model.add(layers.Flatten())\n",
    "    \n",
    "    # classification layer\n",
    "    model.add(layers.Dense(10, activation=\"softmax\"))\n",
    "    \n",
    "    # model compilation\n",
    "    model.compile(loss=\"categorical_crossentropy\",\n",
    "                 optimizer=\"adam\",\n",
    "                 metrics=[\"accuracy\"])\n",
    "    \n",
    "    return model"
   ]
  },
  {
   "cell_type": "code",
   "execution_count": 10,
   "id": "35e676d0",
   "metadata": {},
   "outputs": [
    {
     "name": "stdout",
     "output_type": "stream",
     "text": [
      "Epoch 1/100\n",
      "1313/1313 [==============================] - 9s 7ms/step - loss: 0.3161 - accuracy: 0.9114 - val_loss: 0.1889 - val_accuracy: 0.9448\n",
      "Epoch 2/100\n",
      "1313/1313 [==============================] - 9s 7ms/step - loss: 0.1346 - accuracy: 0.9612 - val_loss: 0.1239 - val_accuracy: 0.9642\n",
      "Epoch 3/100\n",
      "1313/1313 [==============================] - 12s 9ms/step - loss: 0.1009 - accuracy: 0.9699 - val_loss: 0.1029 - val_accuracy: 0.9716\n",
      "Epoch 4/100\n",
      "1313/1313 [==============================] - 13s 10ms/step - loss: 0.0841 - accuracy: 0.9755 - val_loss: 0.0963 - val_accuracy: 0.9710\n",
      "Epoch 5/100\n",
      "1313/1313 [==============================] - 11s 8ms/step - loss: 0.0717 - accuracy: 0.9787 - val_loss: 0.0894 - val_accuracy: 0.9729\n",
      "Epoch 6/100\n",
      "1313/1313 [==============================] - 13s 10ms/step - loss: 0.0636 - accuracy: 0.9808 - val_loss: 0.0822 - val_accuracy: 0.9751\n",
      "Epoch 7/100\n",
      "1313/1313 [==============================] - 13s 10ms/step - loss: 0.0559 - accuracy: 0.9835 - val_loss: 0.0790 - val_accuracy: 0.9782\n",
      "Epoch 8/100\n",
      "1313/1313 [==============================] - 13s 10ms/step - loss: 0.0501 - accuracy: 0.9849 - val_loss: 0.0793 - val_accuracy: 0.9762\n",
      "Epoch 9/100\n",
      "1313/1313 [==============================] - 14s 10ms/step - loss: 0.0446 - accuracy: 0.9866 - val_loss: 0.0741 - val_accuracy: 0.9788\n",
      "Epoch 10/100\n",
      "1313/1313 [==============================] - 17s 13ms/step - loss: 0.0408 - accuracy: 0.9876 - val_loss: 0.0819 - val_accuracy: 0.9759\n",
      "Epoch 11/100\n",
      "1313/1313 [==============================] - 15s 11ms/step - loss: 0.0364 - accuracy: 0.9895 - val_loss: 0.0771 - val_accuracy: 0.9776\n",
      "Epoch 12/100\n",
      "1313/1313 [==============================] - 14s 10ms/step - loss: 0.0342 - accuracy: 0.9892 - val_loss: 0.0762 - val_accuracy: 0.9780\n",
      "Epoch 13/100\n",
      "1313/1313 [==============================] - 14s 10ms/step - loss: 0.0307 - accuracy: 0.9905 - val_loss: 0.0758 - val_accuracy: 0.9789\n",
      "Epoch 14/100\n",
      "1313/1313 [==============================] - 15s 11ms/step - loss: 0.0284 - accuracy: 0.9915 - val_loss: 0.0800 - val_accuracy: 0.9774\n"
     ]
    }
   ],
   "source": [
    "model = initalize_model()\n",
    "\n",
    "es = EarlyStopping(patience=5)\n",
    "\n",
    "history = model.fit(X_train, \n",
    "                   y_train_cat, \n",
    "                   validation_split=0.3,\n",
    "                   batch_size=32,\n",
    "                   epochs=100,\n",
    "                   callbacks= es, \n",
    "                   verbose=1)"
   ]
  },
  {
   "cell_type": "markdown",
   "id": "c8606834",
   "metadata": {},
   "source": [
    "## Evaluate the performance"
   ]
  },
  {
   "cell_type": "code",
   "execution_count": 11,
   "id": "a99a6899",
   "metadata": {},
   "outputs": [
    {
     "name": "stdout",
     "output_type": "stream",
     "text": [
      "313/313 [==============================] - 1s 5ms/step - loss: 0.0699 - accuracy: 0.9797\n"
     ]
    }
   ],
   "source": [
    "res = model.evaluate(X_test, y_test_cat, verbose=1)"
   ]
  }
 ],
 "metadata": {
  "kernelspec": {
   "display_name": "Python 3 (ipykernel)",
   "language": "python",
   "name": "python3"
  },
  "language_info": {
   "codemirror_mode": {
    "name": "ipython",
    "version": 3
   },
   "file_extension": ".py",
   "mimetype": "text/x-python",
   "name": "python",
   "nbconvert_exporter": "python",
   "pygments_lexer": "ipython3",
   "version": "3.10.6"
  },
  "toc": {
   "base_numbering": 1,
   "nav_menu": {},
   "number_sections": true,
   "sideBar": true,
   "skip_h1_title": false,
   "title_cell": "Table of Contents",
   "title_sidebar": "Contents",
   "toc_cell": false,
   "toc_position": {},
   "toc_section_display": true,
   "toc_window_display": false
  }
 },
 "nbformat": 4,
 "nbformat_minor": 5
}
